{
 "cells": [
  {
   "cell_type": "code",
   "execution_count": 13,
   "metadata": {},
   "outputs": [],
   "source": [
    "import os\n",
    "import cv2\n",
    "# import pandas as pd\n",
    "from torch.utils.data import Dataset, DataLoader"
   ]
  },
  {
   "cell_type": "code",
   "execution_count": 51,
   "metadata": {},
   "outputs": [],
   "source": [
    "# data_table = pd.read_csv('Data_Entry_2017.csv') #do not need these for pre-training image model"
   ]
  },
  {
   "cell_type": "markdown",
   "metadata": {},
   "source": [
    "### Getting files from all folders - use later"
   ]
  },
  {
   "cell_type": "code",
   "execution_count": 2,
   "metadata": {},
   "outputs": [],
   "source": [
    "PATH = '/home/sshad/data/chest-xray/' \n",
    "os.chdir(PATH)"
   ]
  },
  {
   "cell_type": "code",
   "execution_count": 30,
   "metadata": {},
   "outputs": [
    {
     "data": {
      "text/plain": [
       "['images_001',\n",
       " 'images_002',\n",
       " 'images_003',\n",
       " 'images_004',\n",
       " 'images_005',\n",
       " 'images_006',\n",
       " 'images_007',\n",
       " 'images_008',\n",
       " 'images_009',\n",
       " 'images_010',\n",
       " 'images_011',\n",
       " 'images_012']"
      ]
     },
     "execution_count": 30,
     "metadata": {},
     "output_type": "execute_result"
    }
   ],
   "source": [
    "folders = ['images_' + str(i).zfill(3) for i in range(1, 13)]\n",
    "folders"
   ]
  },
  {
   "cell_type": "code",
   "execution_count": 36,
   "metadata": {},
   "outputs": [
    {
     "data": {
      "text/plain": [
       "4999"
      ]
     },
     "execution_count": 36,
     "metadata": {},
     "output_type": "execute_result"
    }
   ],
   "source": [
    "example = os.listdir(PATH + folders[0] + '/images') \n",
    "len(example)"
   ]
  },
  {
   "cell_type": "code",
   "execution_count": 58,
   "metadata": {},
   "outputs": [
    {
     "data": {
      "text/plain": [
       "12"
      ]
     },
     "execution_count": 58,
     "metadata": {},
     "output_type": "execute_result"
    }
   ],
   "source": [
    "all_imgs = [os.listdir(PATH + f + '/images') for f in folders]\n",
    "len(all_imgs)"
   ]
  },
  {
   "cell_type": "code",
   "execution_count": 48,
   "metadata": {},
   "outputs": [
    {
     "data": {
      "text/plain": [
       "112120"
      ]
     },
     "execution_count": 48,
     "metadata": {},
     "output_type": "execute_result"
    }
   ],
   "source": [
    "flat_list = sum(all_imgs, [])\n",
    "len(flat_list)"
   ]
  },
  {
   "cell_type": "code",
   "execution_count": 59,
   "metadata": {},
   "outputs": [
    {
     "data": {
      "text/plain": [
       "'00000348_001.png'"
      ]
     },
     "execution_count": 59,
     "metadata": {},
     "output_type": "execute_result"
    }
   ],
   "source": [
    "flat_list[0]"
   ]
  },
  {
   "cell_type": "markdown",
   "metadata": {},
   "source": [
    "### Reading files from a folder"
   ]
  },
  {
   "cell_type": "code",
   "execution_count": 3,
   "metadata": {},
   "outputs": [
    {
     "data": {
      "text/plain": [
       "(4999,\n",
       " ['00000348_001.png',\n",
       "  '00000544_000.png',\n",
       "  '00000121_000.png',\n",
       "  '00000116_001.png',\n",
       "  '00000242_004.png'])"
      ]
     },
     "execution_count": 3,
     "metadata": {},
     "output_type": "execute_result"
    }
   ],
   "source": [
    "folder_path = PATH + 'images_001/images'\n",
    "files = os.listdir(folder_path)\n",
    "len(files), files[:5] # 4999 files in the first folder"
   ]
  },
  {
   "cell_type": "code",
   "execution_count": 4,
   "metadata": {},
   "outputs": [
    {
     "data": {
      "text/plain": [
       "['/home/sshad/data/chest-xray/images_001/images/00000348_001.png',\n",
       " '/home/sshad/data/chest-xray/images_001/images/00000544_000.png',\n",
       " '/home/sshad/data/chest-xray/images_001/images/00000121_000.png',\n",
       " '/home/sshad/data/chest-xray/images_001/images/00000116_001.png',\n",
       " '/home/sshad/data/chest-xray/images_001/images/00000242_004.png']"
      ]
     },
     "execution_count": 4,
     "metadata": {},
     "output_type": "execute_result"
    }
   ],
   "source": [
    "files = [os.path.join(folder_path, f) for f in os.listdir(folder_path)]\n",
    "files[:5]"
   ]
  },
  {
   "cell_type": "code",
   "execution_count": 5,
   "metadata": {},
   "outputs": [
    {
     "data": {
      "text/plain": [
       "'/home/sshad/data/chest-xray/images_001/images/00000348_001.png'"
      ]
     },
     "execution_count": 5,
     "metadata": {},
     "output_type": "execute_result"
    }
   ],
   "source": [
    "files[0]"
   ]
  },
  {
   "cell_type": "code",
   "execution_count": 6,
   "metadata": {},
   "outputs": [],
   "source": [
    "def read_image(path):\n",
    "    im = cv2.imread(str(path))\n",
    "    return cv2.cvtColor(im, cv2.COLOR_BGR2RGB)"
   ]
  },
  {
   "cell_type": "code",
   "execution_count": 11,
   "metadata": {},
   "outputs": [
    {
     "data": {
      "text/plain": [
       "((1024, 1024, 3), (1024, 1024, 3))"
      ]
     },
     "execution_count": 11,
     "metadata": {},
     "output_type": "execute_result"
    }
   ],
   "source": [
    "# Checking if cv2.imread is sufficient \n",
    "a = cv2.imread(str(files[0]))\n",
    "b = read_image(files[0])\n",
    "a.shape, b.shape, #a==b"
   ]
  },
  {
   "cell_type": "code",
   "execution_count": 12,
   "metadata": {},
   "outputs": [],
   "source": [
    "class CXRImages(Dataset): \n",
    "    \n",
    "    def __init__(self, paths):\n",
    "        super().__init__()\n",
    "        self.files = paths\n",
    "\n",
    "    def __len__(self): \n",
    "        return len(self.files)\n",
    "\n",
    "    def __getitem__(self, idx): \n",
    "        img = cv2.imread(self.files[idx])\n",
    "        return img\n",
    "        "
   ]
  },
  {
   "cell_type": "code",
   "execution_count": 23,
   "metadata": {},
   "outputs": [],
   "source": [
    "example = CXRImages(files)\n",
    "example_loader = DataLoader(example, batch_size=1)"
   ]
  },
  {
   "cell_type": "code",
   "execution_count": 24,
   "metadata": {},
   "outputs": [
    {
     "data": {
      "text/plain": [
       "tensor([[[[ 58,  58,  58],\n",
       "          [ 50,  50,  50],\n",
       "          [ 43,  43,  43],\n",
       "          ...,\n",
       "          [177, 177, 177],\n",
       "          [185, 185, 185],\n",
       "          [110, 110, 110]],\n",
       "\n",
       "         [[ 43,  43,  43],\n",
       "          [ 36,  36,  36],\n",
       "          [ 30,  30,  30],\n",
       "          ...,\n",
       "          [169, 169, 169],\n",
       "          [174, 174, 174],\n",
       "          [ 99,  99,  99]],\n",
       "\n",
       "         [[ 31,  31,  31],\n",
       "          [ 26,  26,  26],\n",
       "          [ 21,  21,  21],\n",
       "          ...,\n",
       "          [150, 150, 150],\n",
       "          [157, 157, 157],\n",
       "          [ 90,  90,  90]],\n",
       "\n",
       "         ...,\n",
       "\n",
       "         [[  0,   0,   0],\n",
       "          [  0,   0,   0],\n",
       "          [  0,   0,   0],\n",
       "          ...,\n",
       "          [154, 154, 154],\n",
       "          [160, 160, 160],\n",
       "          [ 94,  94,  94]],\n",
       "\n",
       "         [[  0,   0,   0],\n",
       "          [  0,   0,   0],\n",
       "          [  0,   0,   0],\n",
       "          ...,\n",
       "          [154, 154, 154],\n",
       "          [158, 158, 158],\n",
       "          [ 94,  94,  94]],\n",
       "\n",
       "         [[  0,   0,   0],\n",
       "          [  0,   0,   0],\n",
       "          [  0,   0,   0],\n",
       "          ...,\n",
       "          [151, 151, 151],\n",
       "          [164, 164, 164],\n",
       "          [ 95,  95,  95]]]], dtype=torch.uint8)"
      ]
     },
     "execution_count": 24,
     "metadata": {},
     "output_type": "execute_result"
    }
   ],
   "source": [
    "next(iter(example_loader))"
   ]
  },
  {
   "cell_type": "code",
   "execution_count": null,
   "metadata": {},
   "outputs": [],
   "source": []
  }
 ],
 "metadata": {
  "kernelspec": {
   "display_name": "Python 3",
   "language": "python",
   "name": "python3"
  },
  "language_info": {
   "codemirror_mode": {
    "name": "ipython",
    "version": 3
   },
   "file_extension": ".py",
   "mimetype": "text/x-python",
   "name": "python",
   "nbconvert_exporter": "python",
   "pygments_lexer": "ipython3",
   "version": "3.11.8"
  }
 },
 "nbformat": 4,
 "nbformat_minor": 2
}
