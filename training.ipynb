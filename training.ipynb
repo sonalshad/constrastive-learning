{
 "cells": [
  {
   "cell_type": "markdown",
   "metadata": {},
   "source": [
    "#### Optimizer\n",
    "\n",
    "[module for LARS](https://github.com/kakaobrain/torchlars)\n",
    "\n",
    "or copy-paste from somewhere else"
   ]
  },
  {
   "cell_type": "code",
   "execution_count": 1,
   "metadata": {},
   "outputs": [],
   "source": [
    "# ! pip install torchlars\n",
    "# from torchlars import LARS\n",
    "# optimizer = LARS(optim.SGD(model.parameters(), lr=0.1))"
   ]
  },
  {
   "cell_type": "code",
   "execution_count": 2,
   "metadata": {},
   "outputs": [],
   "source": [
    "# # Example\n",
    "\n",
    "# from torchlars import LARS\n",
    "\n",
    "# base_optimizer = optim.SGD(model.parameters(), lr=0.1)\n",
    "# optimizer = LARS(optimizer=base_optimizer, eps=1e-8, trust_coef=0.001)\n",
    "\n",
    "# output = model(input)\n",
    "# loss = loss_fn(output, target)\n",
    "# loss.backward()\n",
    "\n",
    "# optimizer.step()"
   ]
  },
  {
   "cell_type": "code",
   "execution_count": null,
   "metadata": {},
   "outputs": [],
   "source": [
    "# ! pip install import-ipynb\n",
    "import import_ipynb\n",
    "from model import *\n",
    "from data_set_loader import *\n",
    "\n",
    "import torch.optim "
   ]
  },
  {
   "cell_type": "code",
   "execution_count": null,
   "metadata": {},
   "outputs": [],
   "source": [
    "import os\n",
    "os.environ[\"CUDA_VISIBLE_DEVICES\"]=\"3\""
   ]
  },
  {
   "cell_type": "markdown",
   "metadata": {},
   "source": [
    "### Training Loop"
   ]
  },
  {
   "cell_type": "code",
   "execution_count": null,
   "metadata": {},
   "outputs": [],
   "source": [
    "def model_train(data_loader, model, criterion, optimizer, epochs=10): \n",
    "\n",
    "    for epoch in range(epochs): \n",
    "        train_loss = 0\n",
    "        data_size = 0\n",
    "        print(f\"Epoch {epoch}/{epochs}\\t\")\n",
    "\n",
    "        model.train()\n",
    "\n",
    "        for step, (x1, x2, y) in enumerate(data_loader): \n",
    "            data_size += y.shape[0]\n",
    "\n",
    "            optimizer.zero_grad()\n",
    "            z, labels = model(x1, x2)\n",
    "            loss = criterion(z, labels)\n",
    "            loss.backward()\n",
    "            optimizer.step()\n",
    "            train_loss += loss.item()*y.shape[0]\n",
    "            if step % 25 == 0: \n",
    "                print(f\"Step {step}/625x \\t Loss: {train_loss/data_size}\")\n"
   ]
  },
  {
   "cell_type": "code",
   "execution_count": null,
   "metadata": {},
   "outputs": [
    {
     "data": {
      "text/plain": [
       "40000"
      ]
     },
     "execution_count": 6,
     "metadata": {},
     "output_type": "execute_result"
    }
   ],
   "source": [
    "batch_size = 64\n",
    "train_data = ContrastiveCIFAR10()\n",
    "# val_data = ContrastiveCIFAR10(mode = 'val')\n",
    "len(train_data)"
   ]
  },
  {
   "cell_type": "code",
   "execution_count": null,
   "metadata": {},
   "outputs": [],
   "source": [
    "train_dl = DataLoader(train_data, batch_size=1)\n",
    "# val_dl = DataLoader(val_data, batch_size)"
   ]
  },
  {
   "cell_type": "code",
   "execution_count": 5,
   "metadata": {},
   "outputs": [
    {
     "ename": "NameError",
     "evalue": "name 'SimCLR' is not defined",
     "output_type": "error",
     "traceback": [
      "\u001b[0;31m---------------------------------------------------------------------------\u001b[0m",
      "\u001b[0;31mNameError\u001b[0m                                 Traceback (most recent call last)",
      "Cell \u001b[0;32mIn[5], line 1\u001b[0m\n\u001b[0;32m----> 1\u001b[0m model \u001b[38;5;241m=\u001b[39m SimCLR()\n\u001b[1;32m      2\u001b[0m criterion \u001b[38;5;241m=\u001b[39m NTXentLoss(temperature\u001b[38;5;241m=\u001b[39m\u001b[38;5;241m0.1\u001b[39m)\n\u001b[1;32m      3\u001b[0m optimizer \u001b[38;5;241m=\u001b[39m torch\u001b[38;5;241m.\u001b[39moptim\u001b[38;5;241m.\u001b[39mAdam(model\u001b[38;5;241m.\u001b[39mparameters())\n",
      "\u001b[0;31mNameError\u001b[0m: name 'SimCLR' is not defined"
     ]
    }
   ],
   "source": [
    "model = SimCLR()\n",
    "criterion = NTXentLoss(temperature=0.1)\n",
    "optimizer = torch.optim.Adam(model.parameters())\n",
    "\n",
    "model_train(train_dl, model, criterion, optimizer, epochs=2)"
   ]
  },
  {
   "cell_type": "code",
   "execution_count": null,
   "metadata": {},
   "outputs": [],
   "source": []
  }
 ],
 "metadata": {
  "kernelspec": {
   "display_name": "base",
   "language": "python",
   "name": "python3"
  },
  "language_info": {
   "codemirror_mode": {
    "name": "ipython",
    "version": 3
   },
   "file_extension": ".py",
   "mimetype": "text/x-python",
   "name": "python",
   "nbconvert_exporter": "python",
   "pygments_lexer": "ipython3",
   "version": "3.11.8"
  }
 },
 "nbformat": 4,
 "nbformat_minor": 2
}
