{
 "cells": [
  {
   "cell_type": "code",
   "execution_count": 1,
   "metadata": {},
   "outputs": [],
   "source": [
    "import torch\n",
    "import torchvision\n",
    "import torch.nn as nn\n",
    "from torchvision import models\n",
    "import torch.nn.functional as F"
   ]
  },
  {
   "cell_type": "code",
   "execution_count": 2,
   "metadata": {},
   "outputs": [],
   "source": [
    "# Using downloadable resnet model without all WCL changes to architecture\n",
    "\n",
    "# replace the first layer with a smaller conv layer [kernel size = 3]\n",
    "# remove the final fc (linear) layer so the output is of size 2048\n",
    "\n",
    "class Net(nn.Module): \n",
    "    def __init__(self): \n",
    "        super(Net, self).__init__()\n",
    "        self.conv1 = nn.Conv2d(3, 64, kernel_size=3,    #Dim In: \n",
    "                               stride=1, padding=1,     #Dim Out:  \n",
    "                               bias = False)\n",
    "        layers = list(models.resnet50(weights=None).children())[1:-1] \n",
    "        self.middle = nn.Sequential(*layers)\n",
    "\n",
    "    def forward(self, x): \n",
    "        x = self.conv1(x)\n",
    "        x = self.middle(x)\n",
    "        return x.view(x.shape[0], -1)"
   ]
  },
  {
   "cell_type": "code",
   "execution_count": 3,
   "metadata": {},
   "outputs": [],
   "source": [
    "class ProjectionHead(nn.Module): \n",
    "    def __init__(self, dim_in=2048, dim_out=128, dim_hidden=2048): \n",
    "        super(ProjectionHead, self).__init__()\n",
    "        self.linear1 = nn.Linear(dim_in, dim_hidden)\n",
    "        self.bn1 = nn.BatchNorm1d(dim_hidden)\n",
    "        self.linear2 = nn.Linear(dim_hidden, dim_hidden)\n",
    "        self.bn2 = nn.BatchNorm1d(dim_hidden)\n",
    "        self.linear3 = nn.Linear(dim_hidden, dim_out)\n",
    "\n",
    "    def forward(self, x):\n",
    "        x = self.linear1(x)\n",
    "        x = F.relu(self.bn1(x))\n",
    "        x = self.linear2(x)\n",
    "        x = F.relu(self.bn2(x))\n",
    "        x = self.linear3(x)\n",
    "        return x    "
   ]
  },
  {
   "cell_type": "code",
   "execution_count": null,
   "metadata": {},
   "outputs": [],
   "source": [
    "class SimCLR(nn.Module): \n",
    "    def __init__(self): \n",
    "        super(SimCLR, self).__init__()\n",
    "        self.resnet = Net()\n",
    "        self.head = ProjectionHead()\n",
    "\n",
    "    def forward()"
   ]
  }
 ],
 "metadata": {
  "kernelspec": {
   "display_name": "base",
   "language": "python",
   "name": "python3"
  },
  "language_info": {
   "codemirror_mode": {
    "name": "ipython",
    "version": 3
   },
   "file_extension": ".py",
   "mimetype": "text/x-python",
   "name": "python",
   "nbconvert_exporter": "python",
   "pygments_lexer": "ipython3",
   "version": "3.11.8"
  }
 },
 "nbformat": 4,
 "nbformat_minor": 2
}
