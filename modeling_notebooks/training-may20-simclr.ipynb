{
 "cells": [
  {
   "cell_type": "markdown",
   "metadata": {},
   "source": [
    "# May 20 - Train SimCLR"
   ]
  },
  {
   "cell_type": "markdown",
   "metadata": {},
   "source": [
    "1. Train SimCLR network on ImageNet? for ~ 100 epochs. \n",
    "    - optimize model training\n",
    "2. Train a classification block/layer for ~ 80 epochs. \n",
    "    - optimize model training\n",
    "3. Evaluate performance on CXR task."
   ]
  },
  {
   "cell_type": "code",
   "execution_count": 1,
   "metadata": {},
   "outputs": [],
   "source": [
    "import os\n",
    "import torch\n",
    "import pickle\n",
    "from models import *\n",
    "from training import * \n",
    "import albumentations as A\n",
    "from torch.utils.data import Dataset, DataLoader\n",
    "from pytorch_metric_learning.losses import NTXentLoss"
   ]
  },
  {
   "cell_type": "code",
   "execution_count": 2,
   "metadata": {},
   "outputs": [],
   "source": [
    "import warnings\n",
    "warnings.filterwarnings('ignore')"
   ]
  },
  {
   "cell_type": "code",
   "execution_count": 3,
   "metadata": {},
   "outputs": [],
   "source": [
    "device = torch.device('cuda' if torch.cuda.is_available() else 'cpu')"
   ]
  },
  {
   "cell_type": "code",
   "execution_count": 4,
   "metadata": {},
   "outputs": [],
   "source": [
    "# import pickle\n",
    "def unpickle(file):\n",
    "    with open(file, 'rb') as fo:\n",
    "        return pickle.load(fo, encoding='bytes')\n",
    "\n",
    "# import os\n",
    "class CIFAR10(Dataset): \n",
    "\n",
    "    def __init__(self, mode = 'train'): \n",
    "        \"\"\" accepts mode train, val, or test\"\"\"\n",
    "        super().__init__()\n",
    "        self.mode = mode\n",
    "        \n",
    "        # unpickle data\n",
    "        os.chdir('/home/sshad/data/wcl-data')\n",
    "        self.images = unpickle(f'{self.mode}_images')\n",
    "        self.labels = unpickle(f'{self.mode}_labels') \n",
    "\n",
    "        ## SimCLR transformations\n",
    "        if mode == 'train': \n",
    "            self.transforms = A.Compose([\n",
    "            A.RandomResizedCrop(height=28, width=28), #28 * 28 (no resize) [previously 224 * 224]\n",
    "            A.HorizontalFlip(),\n",
    "            A.ColorJitter(p=0.8, brightness=0.8, \n",
    "                        contrast=0.8, saturation=0.8, hue=0.2),\n",
    "            A.ToGray(p=0.2),\n",
    "            A.GaussianBlur(sigma_limit=(0.1, 2.0)),\n",
    "            A.Normalize()\n",
    "            ])\n",
    "        else: \n",
    "            self.transforms = A.Compose([ \n",
    "                A.CenterCrop(height=28, width=28), # 28 * 28 from 224 * 224\n",
    "                A.Normalize()\n",
    "            ])\n",
    "\n",
    "    def __len__(self): \n",
    "        return len(self.images)\n",
    "    \n",
    "    def __getitem__(self, index): \n",
    "        \n",
    "        image, label = self.images[index], self.labels[index]\n",
    "        image = image.reshape(3, 32, 32).transpose() #transpose for augmentation\n",
    "        if self.mode != 'test': \n",
    "            img1 = self.transforms(image=image)['image'].transpose()\n",
    "            img2 = self.transforms(image=image)['image'].transpose()\n",
    "            return img1, img2, label\n",
    "        else: \n",
    "            image = self.transforms(image=image)['image'].transpose()\n",
    "            return label"
   ]
  },
  {
   "cell_type": "markdown",
   "metadata": {},
   "source": [
    "## Test: How long is model training with all simclr agumentations?"
   ]
  },
  {
   "cell_type": "code",
   "execution_count": 1,
   "metadata": {},
   "outputs": [
    {
     "ename": "NameError",
     "evalue": "name 'CIFAR10' is not defined",
     "output_type": "error",
     "traceback": [
      "\u001b[0;31m---------------------------------------------------------------------------\u001b[0m",
      "\u001b[0;31mNameError\u001b[0m                                 Traceback (most recent call last)",
      "Cell \u001b[0;32mIn[1], line 2\u001b[0m\n\u001b[1;32m      1\u001b[0m BATCH_SIZE \u001b[38;5;241m=\u001b[39m \u001b[38;5;241m10\u001b[39m  \u001b[38;5;66;03m# 5 mins per epoch with batch size 10 without all transforms..\u001b[39;00m\n\u001b[0;32m----> 2\u001b[0m train_data \u001b[38;5;241m=\u001b[39m CIFAR10()\n\u001b[1;32m      3\u001b[0m val_data \u001b[38;5;241m=\u001b[39m CIFAR10(mode \u001b[38;5;241m=\u001b[39m \u001b[38;5;124m'\u001b[39m\u001b[38;5;124mval\u001b[39m\u001b[38;5;124m'\u001b[39m)\n\u001b[1;32m      4\u001b[0m train_dl \u001b[38;5;241m=\u001b[39m DataLoader(train_data, BATCH_SIZE)\n",
      "\u001b[0;31mNameError\u001b[0m: name 'CIFAR10' is not defined"
     ]
    }
   ],
   "source": [
    "BATCH_SIZE = 10  # 5 mins per epoch with batch size 10 without all transforms..\n",
    "train_data = CIFAR10()\n",
    "val_data = CIFAR10(mode = 'val')\n",
    "train_dl = DataLoader(train_data, BATCH_SIZE)\n",
    "val_dl = DataLoader(val_data, BATCH_SIZE)"
   ]
  },
  {
   "cell_type": "code",
   "execution_count": null,
   "metadata": {},
   "outputs": [],
   "source": [
    "pretrain = SimCLR().to(device)\n",
    "criterion = NTXentLoss(temperature=0.1).to(device)\n",
    "optimizer = torch.optim.Adam(pretrain.parameters())"
   ]
  },
  {
   "cell_type": "code",
   "execution_count": null,
   "metadata": {},
   "outputs": [
    {
     "name": "stdout",
     "output_type": "stream",
     "text": [
      "Epoch: 1/2 \t T Loss: 2.8624          \t V Loss: 1.9894\n",
      "Epoch: 2/2 \t T Loss: 2.7227          \t V Loss: 1.9986\n"
     ]
    }
   ],
   "source": [
    "model_train(train_dataloader = train_dl, \n",
    "            val_dataloader = val_dl, \n",
    "            model = pretrain, \n",
    "            criterion = criterion, \n",
    "            optimizer = optimizer, \n",
    "            epochs = 2,\n",
    "            device = device) # 8m 35.7s\n",
    "# This takes roughly 4-5 mins again"
   ]
  },
  {
   "cell_type": "markdown",
   "metadata": {},
   "source": [
    "## Test: How long is model training with larger batch sizes? "
   ]
  },
  {
   "cell_type": "markdown",
   "metadata": {},
   "source": [
    "##### BATCH SIZE 100"
   ]
  },
  {
   "cell_type": "code",
   "execution_count": 11,
   "metadata": {},
   "outputs": [],
   "source": [
    "BATCH_SIZE = 100  # 5 mins per epoch with batch size 10 \n",
    "train_data = CIFAR10()\n",
    "val_data = CIFAR10(mode = 'val')\n",
    "train_dl = DataLoader(train_data, BATCH_SIZE)\n",
    "val_dl = DataLoader(val_data, BATCH_SIZE)"
   ]
  },
  {
   "cell_type": "code",
   "execution_count": 12,
   "metadata": {},
   "outputs": [
    {
     "name": "stdout",
     "output_type": "stream",
     "text": [
      "Epoch: 1/2 \t T Loss: 4.9890          \t V Loss: 4.1682\n",
      "Epoch: 2/2 \t T Loss: 4.9369          \t V Loss: 4.0569\n"
     ]
    }
   ],
   "source": [
    "model_train(train_dataloader = train_dl, \n",
    "            val_dataloader = val_dl, \n",
    "            model = pretrain, \n",
    "            criterion = criterion, \n",
    "            optimizer = optimizer, \n",
    "            epochs = 2,\n",
    "            device = device) # 2m 40.0s\n",
    "\n",
    "# This takes only ~ 1-2 min or so.\n",
    "# Better time. Interestingly, higher loss."
   ]
  },
  {
   "cell_type": "markdown",
   "metadata": {},
   "source": [
    "##### BATCH SIZE 200"
   ]
  },
  {
   "cell_type": "code",
   "execution_count": 13,
   "metadata": {},
   "outputs": [],
   "source": [
    "BATCH_SIZE = 200 # 1-2 mins per epoch with batch size 100\n",
    "train_data = CIFAR10()\n",
    "val_data = CIFAR10(mode = 'val')\n",
    "train_dl = DataLoader(train_data, BATCH_SIZE)\n",
    "val_dl = DataLoader(val_data, BATCH_SIZE)"
   ]
  },
  {
   "cell_type": "code",
   "execution_count": 16,
   "metadata": {},
   "outputs": [
    {
     "name": "stdout",
     "output_type": "stream",
     "text": [
      "Epoch: 1/2 \t T Loss: 5.3841          \t V Loss: 4.0287\n",
      "Epoch: 2/2 \t T Loss: 5.2350          \t V Loss: 3.7711\n"
     ]
    }
   ],
   "source": [
    "model_train(train_dataloader = train_dl, \n",
    "            val_dataloader = val_dl, \n",
    "            model = pretrain, \n",
    "            criterion = criterion, \n",
    "            optimizer = optimizer, \n",
    "            epochs = 2,\n",
    "            device = device) # 2m 22.1s, 2m 30.5s\n",
    "\n",
    "# 10 second gain. Even slightly higher loss."
   ]
  },
  {
   "cell_type": "markdown",
   "metadata": {},
   "source": [
    "##### BATCH SIZE 128\n",
    "\n",
    "Used in one online implementation"
   ]
  },
  {
   "cell_type": "code",
   "execution_count": 17,
   "metadata": {},
   "outputs": [],
   "source": [
    "BATCH_SIZE = 128\n",
    "train_data = CIFAR10()\n",
    "val_data = CIFAR10(mode = 'val')\n",
    "train_dl = DataLoader(train_data, BATCH_SIZE)\n",
    "val_dl = DataLoader(val_data, BATCH_SIZE)"
   ]
  },
  {
   "cell_type": "code",
   "execution_count": 20,
   "metadata": {},
   "outputs": [
    {
     "name": "stdout",
     "output_type": "stream",
     "text": [
      "Epoch: 1/2 \t T Loss: 5.4470          \t V Loss: 4.8639\n",
      "Epoch: 2/2 \t T Loss: 5.3168          \t V Loss: 4.6175\n"
     ]
    }
   ],
   "source": [
    "model_train(train_dataloader = train_dl, \n",
    "            val_dataloader = val_dl, \n",
    "            model = pretrain, \n",
    "            criterion = criterion, \n",
    "            optimizer = optimizer, \n",
    "            epochs = 2,\n",
    "            device = device) # 2m 35s"
   ]
  },
  {
   "cell_type": "markdown",
   "metadata": {},
   "source": [
    "## Pre-train SimCLR R1 \n",
    "\n",
    "*BS* 128  \n",
    "*Epochs* 100  \n",
    "*Criterion* NTXentLoss, temperature:0.1  \n",
    "*Optimizer* Adam, default parameters  "
   ]
  },
  {
   "cell_type": "markdown",
   "metadata": {},
   "source": [
    "**Made changes to training.py to save losses for visualization** \n",
    "So, previous code cells won't work. "
   ]
  },
  {
   "cell_type": "code",
   "execution_count": 5,
   "metadata": {},
   "outputs": [],
   "source": [
    "BATCH_SIZE = 128\n",
    "train_data = CIFAR10()\n",
    "val_data = CIFAR10(mode = 'val')\n",
    "train_dl = DataLoader(train_data, BATCH_SIZE)\n",
    "val_dl = DataLoader(val_data, BATCH_SIZE)"
   ]
  },
  {
   "cell_type": "code",
   "execution_count": 6,
   "metadata": {},
   "outputs": [],
   "source": [
    "simclr_r1 = SimCLR().to(device)\n",
    "criterion = NTXentLoss(temperature=0.1).to(device)\n",
    "optimizer = torch.optim.Adam(simclr_r1.parameters())"
   ]
  },
  {
   "cell_type": "code",
   "execution_count": 7,
   "metadata": {},
   "outputs": [
    {
     "name": "stdout",
     "output_type": "stream",
     "text": [
      "Epoch: 1/100 \t T Loss: 5.4180          \t V Loss: 4.8045\n",
      "Epoch: 2/100 \t T Loss: 5.3028          \t V Loss: 4.7896\n",
      "Epoch: 3/100 \t T Loss: 5.2780          \t V Loss: 4.7973\n",
      "Epoch: 4/100 \t T Loss: 5.2605          \t V Loss: 4.6668\n",
      "Epoch: 5/100 \t T Loss: 5.1931          \t V Loss: 4.1991\n",
      "Epoch: 6/100 \t T Loss: 5.0990          \t V Loss: 4.0730\n",
      "Epoch: 7/100 \t T Loss: 4.9327          \t V Loss: 3.5040\n",
      "Epoch: 8/100 \t T Loss: 4.7732          \t V Loss: 3.2464\n",
      "Epoch: 9/100 \t T Loss: 4.6193          \t V Loss: 2.9380\n",
      "Epoch: 10/100 \t T Loss: 4.5180          \t V Loss: 2.8159\n",
      "Epoch: 11/100 \t T Loss: 4.4271          \t V Loss: 2.6174\n",
      "Epoch: 12/100 \t T Loss: 4.3128          \t V Loss: 2.2913\n",
      "Epoch: 13/100 \t T Loss: 4.2254          \t V Loss: 2.0557\n",
      "Epoch: 14/100 \t T Loss: 4.1481          \t V Loss: 2.0106\n",
      "Epoch: 15/100 \t T Loss: 4.0725          \t V Loss: 2.0165\n",
      "Epoch: 16/100 \t T Loss: 4.0295          \t V Loss: 1.7054\n",
      "Epoch: 17/100 \t T Loss: 3.9677          \t V Loss: 1.6818\n",
      "Epoch: 18/100 \t T Loss: 3.9044          \t V Loss: 1.5459\n",
      "Epoch: 19/100 \t T Loss: 3.8261          \t V Loss: 1.2132\n",
      "Epoch: 20/100 \t T Loss: 3.6902          \t V Loss: 1.1265\n",
      "Epoch: 21/100 \t T Loss: 3.5997          \t V Loss: 1.0746\n",
      "Epoch: 22/100 \t T Loss: 3.5379          \t V Loss: 0.9479\n",
      "Epoch: 23/100 \t T Loss: 3.4290          \t V Loss: 0.7649\n",
      "Epoch: 24/100 \t T Loss: 3.3538          \t V Loss: 0.6641\n",
      "Epoch: 25/100 \t T Loss: 3.2351          \t V Loss: 0.5576\n",
      "Epoch: 26/100 \t T Loss: 3.1887          \t V Loss: 0.5016\n",
      "Epoch: 27/100 \t T Loss: 3.0990          \t V Loss: 0.4080\n",
      "Epoch: 28/100 \t T Loss: 3.0227          \t V Loss: 0.3879\n",
      "Epoch: 29/100 \t T Loss: 2.9951          \t V Loss: 0.3883\n",
      "Epoch: 30/100 \t T Loss: 2.9522          \t V Loss: 0.3639\n",
      "Epoch: 31/100 \t T Loss: 2.8832          \t V Loss: 0.3336\n",
      "Epoch: 32/100 \t T Loss: 2.8501          \t V Loss: 0.3037\n",
      "Epoch: 33/100 \t T Loss: 2.7951          \t V Loss: 0.2839\n",
      "Epoch: 34/100 \t T Loss: 2.7644          \t V Loss: 0.2839\n",
      "Epoch: 35/100 \t T Loss: 2.7269          \t V Loss: 0.2811\n",
      "Epoch: 36/100 \t T Loss: 2.6997          \t V Loss: 0.2803\n",
      "Epoch: 37/100 \t T Loss: 2.6631          \t V Loss: 0.2319\n",
      "Epoch: 38/100 \t T Loss: 2.6228          \t V Loss: 0.2295\n",
      "Epoch: 39/100 \t T Loss: 2.5734          \t V Loss: 0.2226\n",
      "Epoch: 40/100 \t T Loss: 2.5596          \t V Loss: 0.2002\n",
      "Epoch: 41/100 \t T Loss: 2.5128          \t V Loss: 0.2193\n",
      "Epoch: 42/100 \t T Loss: 2.4999          \t V Loss: 0.2037\n",
      "Epoch: 43/100 \t T Loss: 2.4633          \t V Loss: 0.1920\n",
      "Epoch: 44/100 \t T Loss: 2.4312          \t V Loss: 0.1997\n",
      "Epoch: 45/100 \t T Loss: 2.4256          \t V Loss: 0.1773\n",
      "Epoch: 46/100 \t T Loss: 2.4037          \t V Loss: 0.1713\n",
      "Epoch: 47/100 \t T Loss: 2.3821          \t V Loss: 0.1622\n",
      "Epoch: 48/100 \t T Loss: 2.3516          \t V Loss: 0.1583\n",
      "Epoch: 49/100 \t T Loss: 2.3364          \t V Loss: 0.1584\n",
      "Epoch: 50/100 \t T Loss: 2.3057          \t V Loss: 0.1624\n",
      "Epoch: 51/100 \t T Loss: 2.2858          \t V Loss: 0.1564\n",
      "Epoch: 52/100 \t T Loss: 2.2678          \t V Loss: 0.1513\n",
      "Epoch: 53/100 \t T Loss: 2.2376          \t V Loss: 0.1453\n",
      "Epoch: 54/100 \t T Loss: 2.2280          \t V Loss: 0.1435\n",
      "Epoch: 55/100 \t T Loss: 2.2422          \t V Loss: 0.1456\n",
      "Epoch: 56/100 \t T Loss: 2.2068          \t V Loss: 0.1329\n",
      "Epoch: 57/100 \t T Loss: 2.2069          \t V Loss: 0.1449\n",
      "Epoch: 58/100 \t T Loss: 2.1763          \t V Loss: 0.1276\n",
      "Epoch: 59/100 \t T Loss: 2.1495          \t V Loss: 0.1332\n",
      "Epoch: 60/100 \t T Loss: 2.1502          \t V Loss: 0.1333\n",
      "Epoch: 61/100 \t T Loss: 2.1364          \t V Loss: 0.1306\n",
      "Epoch: 62/100 \t T Loss: 2.1263          \t V Loss: 0.1310\n",
      "Epoch: 63/100 \t T Loss: 2.1012          \t V Loss: 0.1278\n",
      "Epoch: 64/100 \t T Loss: 2.0974          \t V Loss: 0.1192\n",
      "Epoch: 65/100 \t T Loss: 2.0621          \t V Loss: 0.1235\n",
      "Epoch: 66/100 \t T Loss: 2.0726          \t V Loss: 0.1229\n",
      "Epoch: 67/100 \t T Loss: 2.0461          \t V Loss: 0.1151\n",
      "Epoch: 68/100 \t T Loss: 2.0569          \t V Loss: 0.1171\n",
      "Epoch: 69/100 \t T Loss: 2.0499          \t V Loss: 0.1175\n",
      "Epoch: 70/100 \t T Loss: 2.0359          \t V Loss: 0.1137\n",
      "Epoch: 71/100 \t T Loss: 2.0266          \t V Loss: 0.1096\n",
      "Epoch: 72/100 \t T Loss: 2.0041          \t V Loss: 0.1133\n",
      "Epoch: 73/100 \t T Loss: 1.9950          \t V Loss: 0.1087\n",
      "Epoch: 74/100 \t T Loss: 1.9942          \t V Loss: 0.1081\n",
      "Epoch: 75/100 \t T Loss: 1.9700          \t V Loss: 0.1080\n",
      "Epoch: 76/100 \t T Loss: 1.9911          \t V Loss: 0.1025\n",
      "Epoch: 77/100 \t T Loss: 1.9677          \t V Loss: 0.0993\n",
      "Epoch: 78/100 \t T Loss: 1.9575          \t V Loss: 0.1050\n",
      "Epoch: 79/100 \t T Loss: 1.9417          \t V Loss: 0.0997\n",
      "Epoch: 80/100 \t T Loss: 1.9332          \t V Loss: 0.1070\n",
      "Epoch: 81/100 \t T Loss: 1.9281          \t V Loss: 0.1075\n",
      "Epoch: 82/100 \t T Loss: 1.9322          \t V Loss: 0.0958\n",
      "Epoch: 83/100 \t T Loss: 1.9153          \t V Loss: 0.1014\n",
      "Epoch: 84/100 \t T Loss: 1.9011          \t V Loss: 0.1069\n",
      "Epoch: 85/100 \t T Loss: 1.8974          \t V Loss: 0.0952\n",
      "Epoch: 86/100 \t T Loss: 1.8880          \t V Loss: 0.0993\n",
      "Epoch: 87/100 \t T Loss: 1.8816          \t V Loss: 0.0956\n",
      "Epoch: 88/100 \t T Loss: 1.8751          \t V Loss: 0.0958\n",
      "Epoch: 89/100 \t T Loss: 1.8437          \t V Loss: 0.0983\n",
      "Epoch: 90/100 \t T Loss: 1.8553          \t V Loss: 0.0947\n",
      "Epoch: 91/100 \t T Loss: 1.8467          \t V Loss: 0.0922\n",
      "Epoch: 92/100 \t T Loss: 1.8287          \t V Loss: 0.0895\n",
      "Epoch: 93/100 \t T Loss: 1.8292          \t V Loss: 0.0944\n",
      "Epoch: 94/100 \t T Loss: 1.8044          \t V Loss: 0.0920\n",
      "Epoch: 95/100 \t T Loss: 1.8147          \t V Loss: 0.0949\n",
      "Epoch: 96/100 \t T Loss: 1.8089          \t V Loss: 0.0914\n",
      "Epoch: 97/100 \t T Loss: 1.7948          \t V Loss: 0.0877\n",
      "Epoch: 98/100 \t T Loss: 1.7918          \t V Loss: 0.0878\n",
      "Epoch: 99/100 \t T Loss: 1.7717          \t V Loss: 0.0895\n",
      "Epoch: 100/100 \t T Loss: 1.7830          \t V Loss: 0.0946\n"
     ]
    }
   ],
   "source": [
    "train_losses, val_losses = model_train(train_dataloader = train_dl, \n",
    "            val_dataloader = val_dl, \n",
    "            model = simclr_r1, \n",
    "            criterion = criterion, \n",
    "            optimizer = optimizer, \n",
    "            epochs = 100,\n",
    "            device = device)"
   ]
  },
  {
   "cell_type": "markdown",
   "metadata": {},
   "source": [
    "### Save Model"
   ]
  },
  {
   "cell_type": "code",
   "execution_count": 12,
   "metadata": {},
   "outputs": [],
   "source": [
    "def save_model(model, optimizer, name):\n",
    "    out = os.path.join('/home/sshad/wcl-project/saved_models', name)\n",
    "\n",
    "    torch.save({'model_state_dict': model.state_dict(),\n",
    "                'optimizer_state_dict': optimizer.state_dict()}, out)"
   ]
  },
  {
   "cell_type": "code",
   "execution_count": 14,
   "metadata": {},
   "outputs": [],
   "source": [
    "save_model(simclr_r1, optimizer, name = 'simclr_r1_may20')"
   ]
  },
  {
   "cell_type": "code",
   "execution_count": 16,
   "metadata": {},
   "outputs": [],
   "source": [
    "simclr_duplicate = torch.load('/home/sshad/wcl-project/saved_models/simclr_r1_may20')"
   ]
  },
  {
   "cell_type": "code",
   "execution_count": 38,
   "metadata": {},
   "outputs": [],
   "source": [
    "# import pandas as pd\n",
    "\n",
    "r1_df = pd.DataFrame({\n",
    "    'Training Loss': train_losses, \n",
    "    'Validation Loss': val_losses\n",
    "})\n",
    "r1_df.reset_index(inplace = True)\n",
    "r1_df.rename(columns = {'index': 'Epochs'}, inplace = True)"
   ]
  },
  {
   "cell_type": "code",
   "execution_count": 48,
   "metadata": {},
   "outputs": [],
   "source": [
    "os.chdir('/home/sshad/wcl-project/saved_models')\n",
    "with open('simclr_r1_may20_losses', 'wb') as f:\n",
    "        pickle.dump(r1_df, f)"
   ]
  },
  {
   "cell_type": "markdown",
   "metadata": {},
   "source": [
    "### Visualize Losses"
   ]
  },
  {
   "cell_type": "code",
   "execution_count": 46,
   "metadata": {},
   "outputs": [
    {
     "data": {
      "image/png": "[encoded data removed]",
      "text/plain": [
       "<Figure size 640x480 with 1 Axes>"
      ]
     },
     "metadata": {},
     "output_type": "display_data"
    }
   ],
   "source": [
    "# import matplotlib.pyplot as plt\n",
    "plt.figure()\n",
    "\n",
    "plt.plot(r1_df['Epochs'], r1_df['Training Loss'], label = 'Train')\n",
    "plt.plot(r1_df['Epochs'], r1_df['Validation Loss'], label = 'Validation')\n",
    "\n",
    "plt.xlabel('Epochs')\n",
    "plt.ylabel('NT Cross-Entropy Loss')\n",
    "plt.legend()\n",
    "\n",
    "plt.show()"
   ]
  },
  {
   "cell_type": "markdown",
   "metadata": {},
   "source": [
    "## Linear Evaluation on CXR Data"
   ]
  }
 ],
 "metadata": {
  "kernelspec": {
   "display_name": "Python 3",
   "language": "python",
   "name": "python3"
  }
 },
 "nbformat": 4,
 "nbformat_minor": 2
}
